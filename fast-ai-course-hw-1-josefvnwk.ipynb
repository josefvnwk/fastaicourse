{
 "cells": [
  {
   "cell_type": "markdown",
   "id": "557d62fa",
   "metadata": {
    "execution": {
     "iopub.execute_input": "2022-10-24T09:04:53.332182Z",
     "iopub.status.busy": "2022-10-24T09:04:53.331205Z",
     "iopub.status.idle": "2022-10-24T09:04:53.362303Z",
     "shell.execute_reply": "2022-10-24T09:04:53.360035Z",
     "shell.execute_reply.started": "2022-10-24T09:04:53.332072Z"
    },
    "papermill": {
     "duration": 0.002493,
     "end_time": "2022-10-24T09:08:37.370968",
     "exception": false,
     "start_time": "2022-10-24T09:08:37.368475",
     "status": "completed"
    },
    "tags": []
   },
   "source": [
    "**Hello World!**"
   ]
  },
  {
   "cell_type": "code",
   "execution_count": null,
   "id": "3c60a984",
   "metadata": {
    "papermill": {
     "duration": 0.00124,
     "end_time": "2022-10-24T09:08:37.373920",
     "exception": false,
     "start_time": "2022-10-24T09:08:37.372680",
     "status": "completed"
    },
    "tags": []
   },
   "outputs": [],
   "source": []
  }
 ],
 "metadata": {
  "kernelspec": {
   "display_name": "Python 3",
   "language": "python",
   "name": "python3"
  },
  "language_info": {
   "codemirror_mode": {
    "name": "ipython",
    "version": 3
   },
   "file_extension": ".py",
   "mimetype": "text/x-python",
   "name": "python",
   "nbconvert_exporter": "python",
   "pygments_lexer": "ipython3",
   "version": "3.7.12"
  },
  "papermill": {
   "default_parameters": {},
   "duration": 9.477244,
   "end_time": "2022-10-24T09:08:38.100594",
   "environment_variables": {},
   "exception": null,
   "input_path": "__notebook__.ipynb",
   "output_path": "__notebook__.ipynb",
   "parameters": {},
   "start_time": "2022-10-24T09:08:28.623350",
   "version": "2.3.4"
  }
 },
 "nbformat": 4,
 "nbformat_minor": 5
}
